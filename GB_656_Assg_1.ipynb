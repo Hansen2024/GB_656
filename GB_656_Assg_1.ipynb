{
  "nbformat": 4,
  "nbformat_minor": 0,
  "metadata": {
    "colab": {
      "provenance": [],
      "authorship_tag": "ABX9TyNWTJlh8ctORUyoFVLG9MP7",
      "include_colab_link": true
    },
    "kernelspec": {
      "name": "python3",
      "display_name": "Python 3"
    },
    "language_info": {
      "name": "python"
    }
  },
  "cells": [
    {
      "cell_type": "markdown",
      "metadata": {
        "id": "view-in-github",
        "colab_type": "text"
      },
      "source": [
        "<a href=\"https://colab.research.google.com/github/Hansen2024/GB_656/blob/main/GB_656_Assg_1.ipynb\" target=\"_parent\"><img src=\"https://colab.research.google.com/assets/colab-badge.svg\" alt=\"Open In Colab\"/></a>"
      ]
    },
    {
      "cell_type": "markdown",
      "source": [
        "# **GB 656 Assignment 1 ---Zihao Li**"
      ],
      "metadata": {
        "id": "JmBZGm_Tl6Ln"
      }
    },
    {
      "cell_type": "code",
      "execution_count": null,
      "metadata": {
        "id": "g4FeNj3CI7Wg"
      },
      "outputs": [],
      "source": [
        "# Load the appropriate libraries.\n",
        "import numpy as np\n",
        "import pandas as pd\n",
        "import seaborn as sns\n",
        "from sklearn.linear_model import LinearRegression\n",
        "import matplotlib.pyplot as plt\n",
        "import scipy.stats as st"
      ]
    },
    {
      "cell_type": "code",
      "source": [
        "#To make the data available, you can clone my github repository into your colab notebook:\n",
        "!git clone https://github.com/Hansen2024/GB_656"
      ],
      "metadata": {
        "colab": {
          "base_uri": "https://localhost:8080/"
        },
        "id": "bQqTe1caK6--",
        "outputId": "9223877e-2f32-4f81-c4b8-869e0721a8d0"
      },
      "execution_count": null,
      "outputs": [
        {
          "output_type": "stream",
          "name": "stdout",
          "text": [
            "fatal: destination path 'GB_656' already exists and is not an empty directory.\n"
          ]
        }
      ]
    },
    {
      "cell_type": "code",
      "source": [
        "#you should see `GB_656` listed. And we can pull the data from there:\n",
        "!ls"
      ],
      "metadata": {
        "colab": {
          "base_uri": "https://localhost:8080/"
        },
        "id": "bUeEpXwHK6qs",
        "outputId": "81732daa-e758-4c90-ab70-0ace21e446a2"
      },
      "execution_count": null,
      "outputs": [
        {
          "output_type": "stream",
          "name": "stdout",
          "text": [
            "GB_656\tsample_data\n"
          ]
        }
      ]
    },
    {
      "cell_type": "code",
      "source": [
        "#Read the tel.csv file and check the varibales\n",
        "Tel_data = pd.read_csv('GB_656/tel.csv')\n",
        "Tel_data.head(5)"
      ],
      "metadata": {
        "id": "XyYFG9heyCM5"
      },
      "execution_count": null,
      "outputs": []
    },
    {
      "cell_type": "markdown",
      "source": [
        "# **Run a regression of Hours on all of the variables**\n"
      ],
      "metadata": {
        "id": "3CkLj7-ns3Le"
      }
    },
    {
      "cell_type": "code",
      "source": [
        "#Getting all the variable and input into X1 and y and try to start a linearRegression\n",
        "X1 = Tel_data[['ByDa','RWT','SOA','SOB','SOC','Field','Hot','Day']]\n",
        "y = Tel_data['Hours']"
      ],
      "metadata": {
        "id": "UrHjV_VzLXUR"
      },
      "execution_count": null,
      "outputs": []
    },
    {
      "cell_type": "code",
      "source": [
        "model1 = LinearRegression(fit_intercept=True)\n",
        "model1.fit(X1, y)\n",
        "print(model1.intercept_)\n",
        "print(model1.coef_)\n",
        "print(model1.score(X1,y))"
      ],
      "metadata": {
        "colab": {
          "base_uri": "https://localhost:8080/"
        },
        "id": "icClfDOpLXZq",
        "outputId": "7ef194c3-dba5-4506-b470-1f1141c49e4c"
      },
      "execution_count": null,
      "outputs": [
        {
          "output_type": "stream",
          "name": "stdout",
          "text": [
            "66.56766981061251\n",
            "[-0.14479456  0.33042079  0.06501266 -0.19096699  0.24517713  0.16304945\n",
            "  1.31370942 -2.52554691]\n",
            "0.7045944710614257\n"
          ]
        }
      ]
    },
    {
      "cell_type": "markdown",
      "source": [
        "# **What I found**\n",
        "1. ByDa, SOB, Day have a negative relationship to the hour and rest variables have a positive relationship to the hour.\n",
        "2. 0.7 R2 means that 70% of the changing in the dependent variable can be explained by the independent variables included in this model. But it is not a high valuable number."
      ],
      "metadata": {
        "id": "PP2ME-FctIs6"
      }
    },
    {
      "cell_type": "markdown",
      "source": [
        "### **Include an additional variable that indicated whether the Day is Friday.**"
      ],
      "metadata": {
        "id": "hvc2ATLLm34j"
      }
    },
    {
      "cell_type": "code",
      "source": [
        "#Adding a new coloum into the data which to check is that day is Friday or not\n",
        "Tel_data['Day_F'] = np.where(Tel_data['Day'] == 5, 1, 0)"
      ],
      "metadata": {
        "id": "xJu8mfhNLXeO"
      },
      "execution_count": null,
      "outputs": []
    },
    {
      "cell_type": "markdown",
      "source": [
        "### **Rerun regression**"
      ],
      "metadata": {
        "id": "6TM639hdnAvW"
      }
    },
    {
      "cell_type": "code",
      "source": [
        "#Making a new linearRegresion and Getting all the variable and input into X2 and y and try to see changing of the Coef and R2\n",
        "X2 = Tel_data[['ByDa','RWT','SOA','SOB','SOC','Field','Hot','Day','Day_F']]"
      ],
      "metadata": {
        "id": "VEQQ51gbLXim"
      },
      "execution_count": null,
      "outputs": []
    },
    {
      "cell_type": "code",
      "source": [
        "model1 = LinearRegression(fit_intercept=True)\n",
        "model1.fit(X2, y)\n",
        "print(model1.intercept_)\n",
        "print(model1.coef_)\n",
        "print(model1.score(X2, y))"
      ],
      "metadata": {
        "colab": {
          "base_uri": "https://localhost:8080/"
        },
        "id": "xDe0TvgPLXkm",
        "outputId": "5ef83821-aa2c-427f-a996-55731a5192a3"
      },
      "execution_count": null,
      "outputs": [
        {
          "output_type": "stream",
          "name": "stdout",
          "text": [
            "72.58088195600047\n",
            "[ -0.04155124   0.14135825   0.04507252  -0.64707613   0.17930746\n",
            "   0.09568749   0.91746694   2.41576663 -30.70285627]\n",
            "0.8339606166054786\n"
          ]
        }
      ]
    },
    {
      "cell_type": "code",
      "source": [
        "#Check the residual\n",
        "ypred = model1.predict(X2)\n",
        "eps = y - ypred\n",
        "plt.hist(eps)"
      ],
      "metadata": {
        "colab": {
          "base_uri": "https://localhost:8080/",
          "height": 519
        },
        "id": "JVnainr1rFEp",
        "outputId": "6a0f079a-90b3-4621-bc61-5d0fd5f94047"
      },
      "execution_count": null,
      "outputs": [
        {
          "output_type": "execute_result",
          "data": {
            "text/plain": [
              "(array([1., 1., 5., 2., 4., 5., 2., 1., 6., 4.]),\n",
              " array([-15.01896926, -12.37149944,  -9.72402963,  -7.07655981,\n",
              "         -4.42908999,  -1.78162017,   0.86584965,   3.51331946,\n",
              "          6.16078928,   8.8082591 ,  11.45572892]),\n",
              " <BarContainer object of 10 artists>)"
            ]
          },
          "metadata": {},
          "execution_count": 154
        },
        {
          "output_type": "display_data",
          "data": {
            "text/plain": [
              "<Figure size 640x480 with 1 Axes>"
            ],
            "image/png": "[encoded data removed]"
          },
          "metadata": {}
        }
      ]
    },
    {
      "cell_type": "markdown",
      "source": [
        "# **Run a backward selection to find the best model.**"
      ],
      "metadata": {
        "id": "B7tR1TGFvPvu"
      }
    },
    {
      "cell_type": "code",
      "source": [
        "#Keep trying to build a new regression try to find a better model with higher R2\n",
        "X3 = Tel_data[['ByDa','RWT','SOA','SOB','SOC','Field','Day','Day_F']]"
      ],
      "metadata": {
        "id": "ZA_LzS0QLXmy"
      },
      "execution_count": null,
      "outputs": []
    },
    {
      "cell_type": "code",
      "source": [
        "model1 = LinearRegression(fit_intercept=True)\n",
        "model1.fit(X3, y)\n",
        "print(model1.intercept_)\n",
        "print(model1.coef_)\n",
        "print(model1.score(X3, y))"
      ],
      "metadata": {
        "colab": {
          "base_uri": "https://localhost:8080/"
        },
        "id": "Af-AgZiALXpC",
        "outputId": "0d118b00-68e9-4cac-b07d-c2748db182d4"
      },
      "execution_count": null,
      "outputs": [
        {
          "output_type": "stream",
          "name": "stdout",
          "text": [
            "83.76538401345644\n",
            "[ 1.94724609e-02  6.30086945e-02  4.32674231e-02 -4.85674896e-01\n",
            "  5.95612542e-03  1.11978793e-01  2.68202092e+00 -3.58421797e+01]\n",
            "0.7838214395308734\n"
          ]
        }
      ]
    },
    {
      "cell_type": "code",
      "source": [
        "#check the residuals.\n",
        "ypred = model1.predict(X3)\n",
        "eps = y - ypred\n",
        "plt.hist(eps)"
      ],
      "metadata": {
        "colab": {
          "base_uri": "https://localhost:8080/",
          "height": 519
        },
        "id": "4hZv4T64rK1c",
        "outputId": "cce97266-f03f-43eb-8e10-b2409aac5e57"
      },
      "execution_count": null,
      "outputs": [
        {
          "output_type": "execute_result",
          "data": {
            "text/plain": [
              "(array([3., 5., 1., 3., 3., 5., 6., 4., 0., 1.]),\n",
              " array([-15.34892713, -12.0114678 ,  -8.67400846,  -5.33654913,\n",
              "         -1.99908979,   1.33836954,   4.67582888,   8.01328821,\n",
              "         11.35074755,  14.68820689,  18.02566622]),\n",
              " <BarContainer object of 10 artists>)"
            ]
          },
          "metadata": {},
          "execution_count": 156
        },
        {
          "output_type": "display_data",
          "data": {
            "text/plain": [
              "<Figure size 640x480 with 1 Axes>"
            ],
            "image/png": "[encoded data removed]"
          },
          "metadata": {}
        }
      ]
    },
    {
      "cell_type": "markdown",
      "source": [
        "# **What I found (Summary)**"
      ],
      "metadata": {
        "id": "4meEyF2GvU1h"
      }
    },
    {
      "cell_type": "markdown",
      "source": [
        "I found the following regression model is the best compared to the others I found.\n",
        "\n",
        "I first try to based on the P-Value to delete each independent variable with the highest p-Value and compare which one has a higher R2 number than the \"Full\" Model but there is not one, So I turned comparing P-Value into Adjusted R2 which is a better metric than R2. and after comapring each model I have, the following model has the highest Adjusted R2 and also have a closed R2 to the \"Full\" model. So this is the reason I believe this is the best model. And then, after chcking the residual, it also has a low residuals compare to the \"full\" model and the previous model.\n",
        "\n",
        "Through this link you can find a xls file named in \"GB 656 Assg 1 data base.xls\" which is the one I used to do the regression and comapring the p-Value and deleted each highest P-values. https://github.com/Hansen2024/GB_656"
      ],
      "metadata": {
        "id": "JgU8onL1virm"
      }
    },
    {
      "cell_type": "code",
      "source": [
        "##Keep trying to build a new regression try to find a better model with higher R2\n",
        "X4 = Tel_data[['Hot','RWT','SOA','Day','Day_F']]\n",
        "model1 = LinearRegression(fit_intercept=True)\n",
        "model1.fit(X4, y)\n",
        "print(model1.intercept_)\n",
        "print(model1.coef_)\n",
        "print(model1.score(X4, y))"
      ],
      "metadata": {
        "colab": {
          "base_uri": "https://localhost:8080/"
        },
        "id": "rijBnK8BLXsL",
        "outputId": "3c09aafa-eb5a-47ce-c0cb-fad52f2a4f32"
      },
      "execution_count": null,
      "outputs": [
        {
          "output_type": "stream",
          "name": "stdout",
          "text": [
            "74.44552703824256\n",
            "[  0.81950275   0.11363037   0.04197853   2.44164367 -30.49523016]\n",
            "0.8224126922861862\n"
          ]
        }
      ]
    },
    {
      "cell_type": "code",
      "source": [
        "#Check the residuals\n",
        "ypred = model1.predict(X4)\n",
        "eps = y - ypred\n",
        "plt.hist(eps)"
      ],
      "metadata": {
        "colab": {
          "base_uri": "https://localhost:8080/",
          "height": 519
        },
        "id": "F85pcvRlqvd9",
        "outputId": "9c924ec6-52f3-4f31-85c2-c2e3bd4b221a"
      },
      "execution_count": null,
      "outputs": [
        {
          "output_type": "execute_result",
          "data": {
            "text/plain": [
              "(array([2., 3., 2., 3., 3., 3., 5., 2., 5., 3.]),\n",
              " array([-14.71453717, -11.9768674 ,  -9.23919762,  -6.50152784,\n",
              "         -3.76385806,  -1.02618828,   1.7114815 ,   4.44915128,\n",
              "          7.18682105,   9.92449083,  12.66216061]),\n",
              " <BarContainer object of 10 artists>)"
            ]
          },
          "metadata": {},
          "execution_count": 152
        },
        {
          "output_type": "display_data",
          "data": {
            "text/plain": [
              "<Figure size 640x480 with 1 Axes>"
            ],
            "image/png": "[encoded data removed]"
          },
          "metadata": {}
        }
      ]
    }
  ]
}